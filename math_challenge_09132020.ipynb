{
  "nbformat": 4,
  "nbformat_minor": 0,
  "metadata": {
    "colab": {
      "name": "math_challenge 09132020",
      "provenance": [],
      "collapsed_sections": [],
      "authorship_tag": "ABX9TyOqTOcwsrqECX/PlwRdBy1Y",
      "include_colab_link": true
    },
    "kernelspec": {
      "name": "python3",
      "display_name": "Python 3"
    }
  },
  "cells": [
    {
      "cell_type": "markdown",
      "metadata": {
        "id": "view-in-github",
        "colab_type": "text"
      },
      "source": [
        "<a href=\"https://colab.research.google.com/github/naritatsu/naritatsu/blob/master/math_challenge_09132020.ipynb\" target=\"_parent\"><img src=\"https://colab.research.google.com/assets/colab-badge.svg\" alt=\"Open In Colab\"/></a>"
      ]
    },
    {
      "cell_type": "code",
      "metadata": {
        "id": "1hHgEsH-ZBdS",
        "colab_type": "code",
        "colab": {
          "base_uri": "https://localhost:8080/",
          "height": 34
        },
        "outputId": "5fc642d2-eb2c-412d-9390-994da6ed8ef8"
      },
      "source": [
        "import random\n",
        "import numpy as np\n",
        "import collections\n",
        "\n",
        "def has_duplicates2(seq):\n",
        "    seen = []\n",
        "    unique_list = [x for x in seq if x not in seen and not seen.append(x)]\n",
        "    return len(seq) != len(unique_list)\n",
        "\n",
        "def get_duplicate_list(seq):\n",
        "    seen = []\n",
        "    return [x for x in seq if not seen.append(x) and seen.count(x) == 2]\n",
        "fin = []\n",
        "for i in range (100000):\n",
        "  path = np.empty((0,2), int)\n",
        "  p = [0,0]\n",
        "  l = [0,0,0,1,1,1]\n",
        "  for n in range (6):\n",
        "    a = random.choice(l)\n",
        "    l.remove(a)\n",
        "    if a == 0:\n",
        "      p[0]=p[0]+1\n",
        "    else:\n",
        "      p[1]=p[1]+1\n",
        "    path=np.append(path,np.array([p]),axis=0)\n",
        "\n",
        "  l = [0,0,0,1,1,1]\n",
        "  for n in range (6):\n",
        "    a = random.choice(l)\n",
        "    l.remove(a)\n",
        "    if a == 0:\n",
        "      p[0]=p[0]-1\n",
        "    else:\n",
        "      p[1]=p[1]-1\n",
        "    path=np.append(path,np.array([p]),axis=0)\n",
        "  path_final = path.tolist()\n",
        "  if has_duplicates2(path_final) == False:\n",
        "    fin.append(path_final)\n",
        "print(len(get_duplicate_list(fin)))"
      ],
      "execution_count": null,
      "outputs": [
        {
          "output_type": "stream",
          "text": [
            "40\n"
          ],
          "name": "stdout"
        }
      ]
    },
    {
      "cell_type": "code",
      "metadata": {
        "id": "FVvLDhzTZGfP",
        "colab_type": "code",
        "colab": {}
      },
      "source": [
        ""
      ],
      "execution_count": null,
      "outputs": []
    }
  ]
}