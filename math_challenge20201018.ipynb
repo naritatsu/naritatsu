{
  "nbformat": 4,
  "nbformat_minor": 0,
  "metadata": {
    "colab": {
      "name": "math_challenge20201018",
      "provenance": [],
      "authorship_tag": "ABX9TyOivC9EW9anyska/7RitBkq",
      "include_colab_link": true
    },
    "kernelspec": {
      "name": "python3",
      "display_name": "Python 3"
    }
  },
  "cells": [
    {
      "cell_type": "markdown",
      "metadata": {
        "id": "view-in-github",
        "colab_type": "text"
      },
      "source": [
        "<a href=\"https://colab.research.google.com/github/naritatsu/naritatsu/blob/master/math_challenge20201018.ipynb\" target=\"_parent\"><img src=\"https://colab.research.google.com/assets/colab-badge.svg\" alt=\"Open In Colab\"/></a>"
      ]
    },
    {
      "cell_type": "code",
      "metadata": {
        "id": "pHAtOPDro5yj",
        "outputId": "f631ff06-cc5d-4fcf-c0ef-0431a83717ba",
        "colab": {
          "base_uri": "https://localhost:8080/",
          "height": 34
        }
      },
      "source": [
        "import random \n",
        "def get_unique_list(seq):\n",
        "    seen = []\n",
        "    return [x for x in seq if x not in seen and not seen.append(x)]\n",
        "ans = []\n",
        "for i in range (10000):\n",
        "  a1 = random.randint(1,6)\n",
        "  a2 = random.randint(1,6)\n",
        "  b1 = random.randint(1,6)\n",
        "  b2 = random.randint(1,6)\n",
        "  t_a = a1+a2\n",
        "  t_b = b1 + b2\n",
        "  if t_a >= 7:\n",
        "    t_a = t_a -7\n",
        "  if t_b <= 7:\n",
        "    t_b = 7 - t_b\n",
        "  else:\n",
        "    t_b = 7 - (t_b-7)\n",
        "  if t_a == t_b:\n",
        "    h = (a1, a2, b1, b2)\n",
        "    ans.append(h)\n",
        "print (len(get_unique_list(ans)))"
      ],
      "execution_count": 18,
      "outputs": [
        {
          "output_type": "stream",
          "text": [
            "186\n"
          ],
          "name": "stdout"
        }
      ]
    },
    {
      "cell_type": "code",
      "metadata": {
        "id": "MOzuAP5npLpj"
      },
      "source": [
        ""
      ],
      "execution_count": 8,
      "outputs": []
    }
  ]
}